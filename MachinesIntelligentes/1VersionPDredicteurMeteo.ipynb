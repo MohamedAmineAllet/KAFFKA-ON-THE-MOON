{
 "cells": [
  {
   "metadata": {},
   "cell_type": "code",
   "outputs": [],
   "execution_count": null,
   "source": [
    "#Importation\n",
    "import pandas as pd\n",
    "import numpy as np\n",
    "import matplotlib.pyplot as plt\n",
    "import seaborn as sns\n",
    "from sklearn.utils import resample\n",
    "from sklearn.model_selection import train_test_split, GridSearchCV, cross_val_score\n",
    "from sklearn.ensemble import RandomForestClassifier\n",
    "from sklearn.metrics import classification_report, confusion_matrix, accuracy_score\n"
   ],
   "id": "955af8619c048a3e"
  },
  {
   "metadata": {},
   "cell_type": "code",
   "outputs": [],
   "execution_count": null,
   "source": [
    "base_donnees = pd.read_csv(\"Donnés\\BaseDeDonneesPlusComplete1970-2025.csv\",index_col = \"date\")\n",
    "#creeer une nouvelle colonne pour predire contenant la prediction de s'il va neiger et pleuvoir.\n",
    "base_donnees[\"It's raining\"] = base_donnees[\"rain\"]>0\n",
    "base_donnees[\"It's snowing\"] = base_donnees[\"snow\"]>0\n",
    "del base_donnees[\"sunset_hhmm\"]\n",
    "del base_donnees[\"sunrise_hhmm\"]\n",
    "base_donnees = base_donnees.iloc[::-1]\n",
    "base_donnees\n"
   ],
   "id": "94a8002675a40f21"
  },
  {
   "metadata": {},
   "cell_type": "code",
   "outputs": [],
   "execution_count": null,
   "source": [
    "#Voir les pourcentages de manque de donnes dans chaque colonnes\n",
    "null_prc = base_donnees.isnull().sum()/base_donnees.shape[0]\n",
    "null_prc"
   ],
   "id": "e9543aea1f220a19"
  },
  {
   "metadata": {},
   "cell_type": "code",
   "outputs": [],
   "execution_count": null,
   "source": [
    "#Trier les colonnes valide avec peu de manque de donnees.\n",
    "colonne_valide = base_donnees.columns[null_prc<.05].copy()\n",
    "colonne_valide.shape[0]"
   ],
   "id": "e7d531985b9d5284"
  },
  {
   "metadata": {},
   "cell_type": "code",
   "outputs": [],
   "execution_count": null,
   "source": [
    "#Creer nouvelle base de donnes nettoyée\n",
    "base_donnees = base_donnees[colonne_valide]\n",
    "base_donnees"
   ],
   "id": "2596baa49fd20394"
  },
  {
   "metadata": {},
   "cell_type": "code",
   "outputs": [],
   "execution_count": null,
   "source": [
    "#Étape pour trouver le manque de données se situe ou.\n",
    "null_prc = base_donnees.isnull().sum()/base_donnees.shape[0]\n",
    "null_prc"
   ],
   "id": "3d8f5d3367e212e2"
  },
  {
   "metadata": {},
   "cell_type": "code",
   "outputs": [],
   "execution_count": null,
   "source": [
    "#Technique de remplissage impeu brute qui remplace les valeurs vide par la valeur de l'ancienne journée\n",
    "base_donnees = base_donnees.ffill()\n",
    "#Verification de manque de données aprés remplissage.\n",
    "null_prc = base_donnees.isnull().sum()/base_donnees.shape[0]\n",
    "null_prc"
   ],
   "id": "500c5f048af4eba5"
  },
  {
   "metadata": {},
   "cell_type": "code",
   "outputs": [],
   "execution_count": null,
   "source": [
    "base_donnees.info()\n",
    "#Retire les espaces devant les titres des columns pour réduire l'espace utilisé\n",
    "base_donnees.columns = base_donnees.columns.str.strip()"
   ],
   "id": "9ea7c688b4cc600"
  },
  {
   "metadata": {},
   "cell_type": "code",
   "outputs": [],
   "execution_count": null,
   "source": "base_donnees.info()",
   "id": "c581fbbde25ece7"
  },
  {
   "metadata": {},
   "cell_type": "code",
   "outputs": [],
   "execution_count": null,
   "source": [
    "#Transformer mes valeurs de True/False de it's raining & it's snowing pour 1/0.\n",
    "base_donnees[\"It's raining\"] = base_donnees[\"It's raining\"].map({True:1,False:0})\n",
    "base_donnees[\"It's snowing\"] = base_donnees[\"It's snowing\"].map({True:1,False:0})\n",
    "base_donnees"
   ],
   "id": "cceda2e66478e412"
  },
  {
   "metadata": {},
   "cell_type": "code",
   "outputs": [],
   "execution_count": null,
   "source": [
    "#Parametrer les graphes.\n",
    "sns.set_style(style=\"whitegrid\")\n",
    "base_donnees.describe()"
   ],
   "id": "a44c626613a949b"
  },
  {
   "metadata": {},
   "cell_type": "code",
   "outputs": [],
   "execution_count": null,
   "source": [
    "base_donnees.dtypes\n",
    "base_donnees.columns"
   ],
   "id": "47e23c1bb63a5e62"
  },
  {
   "metadata": {},
   "cell_type": "code",
   "outputs": [],
   "execution_count": null,
   "source": [
    "#Voir la comparaison entre le nombre de jour qu'il pleu/pleu pas et le nombre de jour ou il neige/il neige pas.\n",
    "\n",
    "plt.figure(figsize=(6,4))\n",
    "\n",
    "sns.countplot(x=\"It's raining\",data = base_donnees)\n",
    "plt.title(\"Repartition de la pluie\")\n",
    "plt.show()\n",
    "sns.countplot(x=\"It's snowing\",data = base_donnees)\n",
    "plt.title(\"Repartition de la tombé de neige\")\n",
    "plt.show()\n",
    "\n",
    "\n",
    "\n"
   ],
   "id": "7b2ec373a23cb540"
  },
  {
   "metadata": {},
   "cell_type": "code",
   "outputs": [],
   "execution_count": null,
   "source": [
    "#La corrélation de chaque parametre.\n",
    "plt.figure(figsize=(30,24))\n",
    "sns.heatmap(base_donnees.corr(),annot=True,cmap=\"coolwarm\",fmt=\".2f\")\n",
    "plt.title(\"Corrélation de chaque données\")\n",
    "plt.show()"
   ],
   "id": "593a893a76a0c44c"
  },
  {
   "metadata": {},
   "cell_type": "markdown",
   "source": "Traitement des données",
   "id": "79ed4b192db96054"
  },
  {
   "metadata": {},
   "cell_type": "code",
   "outputs": [],
   "execution_count": null,
   "source": [
    "base_donnees = base_donnees.drop(columns=['avg_hourly_temperature', 'avg_temperature','avg_hourly_dew_point','avg_dew_point','max_pressure_sea', 'avg_hourly_pressure_sea', 'avg_pressure_sea',\n",
    "       'min_pressure_sea', 'max_pressure_station',\n",
    "       'avg_hourly_pressure_station', 'avg_pressure_station',\n",
    "       'min_pressure_station','growdegdays_5', 'growdegdays_7', 'growdegdays_10'])\n"
   ],
   "id": "d56cfab57aece1f1"
  },
  {
   "metadata": {},
   "cell_type": "code",
   "outputs": [],
   "execution_count": null,
   "source": [
    "#Séparer les données en majoritaire et minoritaire de It's raining et It's snowing.\n",
    "base_donnees_majoriatire_pluie = base_donnees[base_donnees[\"It's raining\"]==0]\n",
    "base_donnees_minoritaire_pluie = base_donnees[base_donnees[\"It's raining\"]==1]\n",
    "\n",
    "base_donnees_majoriatire_neige = base_donnees[base_donnees[\"It's snowing\"]==0]\n",
    "base_donnees_minoritaire_neige = base_donnees[base_donnees[\"It's snowing\"]==1]\n"
   ],
   "id": "81ed7326e53337e9"
  },
  {
   "metadata": {},
   "cell_type": "code",
   "outputs": [],
   "execution_count": null,
   "source": [
    "print(base_donnees_majoriatire_pluie.shape)\n",
    "print(base_donnees_minoritaire_pluie.shape)\n",
    "print(base_donnees_majoriatire_neige.shape)\n",
    "print(base_donnees_minoritaire_neige.shape)\n"
   ],
   "id": "d72144e176afb424"
  },
  {
   "metadata": {},
   "cell_type": "code",
   "outputs": [],
   "execution_count": null,
   "source": [
    "#On égalise le nombre de données minoritaire a nos données majoritaire.\n",
    "\n",
    "base_donnees_majoritaire_pluie_diminuee = resample(base_donnees_majoriatire_pluie,replace=False,n_samples=len(base_donnees_minoritaire_pluie),random_state=42)\n",
    "base_donnees_majoritaire_neige_diminuee = resample(base_donnees_majoriatire_neige,replace=False,n_samples=len(base_donnees_minoritaire_neige),random_state=42)\n"
   ],
   "id": "b5a0c52875c16678"
  },
  {
   "metadata": {},
   "cell_type": "code",
   "outputs": [],
   "execution_count": null,
   "source": [
    "base_donnees_diminuee_pluie = pd.concat([base_donnees_majoritaire_pluie_diminuee,base_donnees_minoritaire_pluie])\n",
    "base_donnees_diminuee_neige = pd.concat([base_donnees_majoritaire_neige_diminuee,base_donnees_minoritaire_neige])\n",
    "base_donnees_diminuee_neige.shape\n"
   ],
   "id": "eb9d38c9c1d285b2"
  },
  {
   "metadata": {},
   "cell_type": "code",
   "outputs": [],
   "execution_count": null,
   "source": [
    "#Mélanger mes données pour pas que mon modèle n'ai d'ordre en mémoire.\n",
    "base_donnees_diminuee_pluie = base_donnees_diminuee_pluie.sample(frac=1,random_state=42).reset_index(drop=True)\n",
    "base_donnees_diminuee_neige = base_donnees_diminuee_neige.sample(frac=1,random_state=42).reset_index(drop=True)\n",
    "base_donnees_diminuee_pluie.head()"
   ],
   "id": "777fdd0bda3ec0e0"
  },
  {
   "metadata": {},
   "cell_type": "code",
   "outputs": [],
   "execution_count": null,
   "source": [
    "base_donnees_diminuee_pluie[\"It's raining\"].value_counts()\n",
    "base_donnees_diminuee_neige[\"It's snowing\"].value_counts()\n"
   ],
   "id": "e97921f2af687a15"
  },
  {
   "metadata": {},
   "cell_type": "markdown",
   "source": "Création données de test et données pour l'entrainement",
   "id": "352369a6a2d70dee"
  },
  {
   "metadata": {},
   "cell_type": "code",
   "outputs": [],
   "execution_count": null,
   "source": [
    "X_pluie = base_donnees_diminuee_pluie.drop(columns=\"It's raining\")\n",
    "y_pluie = base_donnees_diminuee_pluie[\"It's raining\"]\n",
    "print(X_pluie)\n",
    "\n",
    "X_neige = base_donnees_diminuee_neige.drop(columns=\"It's snowing\")\n",
    "y_neige = base_donnees_diminuee_pluie[\"It's snowing\"]"
   ],
   "id": "70b1a78bdfe85ed9"
  }
 ],
 "metadata": {
  "kernelspec": {
   "display_name": "Python 3",
   "language": "python",
   "name": "python3"
  },
  "language_info": {
   "codemirror_mode": {
    "name": "ipython",
    "version": 2
   },
   "file_extension": ".py",
   "mimetype": "text/x-python",
   "name": "python",
   "nbconvert_exporter": "python",
   "pygments_lexer": "ipython2",
   "version": "2.7.6"
  }
 },
 "nbformat": 4,
 "nbformat_minor": 5
}
