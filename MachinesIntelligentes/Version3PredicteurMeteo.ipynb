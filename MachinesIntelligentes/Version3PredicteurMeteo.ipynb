{
 "cells": [
  {
   "metadata": {},
   "cell_type": "code",
   "outputs": [],
   "execution_count": null,
   "source": [
    "import pandas as pd\n",
    "import matplotlib.pyplot as plt\n",
    "from sklearn.linear_model import Ridge"
   ],
   "id": "d1cdce6e1f5000df"
  },
  {
   "metadata": {},
   "cell_type": "code",
   "outputs": [],
   "execution_count": null,
   "source": [
    "baseDeDonnees = pd.read_csv(\"Donnés\\DonnesMeteorologiqueSimple2013-2024.csv\", index_col = \"DATE\")\n",
    "baseDeDonnees"
   ],
   "id": "26c3f97142e6ee86"
  },
  {
   "metadata": {},
   "cell_type": "code",
   "outputs": [],
   "execution_count": null,
   "source": "baseDeDonnees.apply(pd.isnull).sum()/baseDeDonnees.shape[0]",
   "id": "56a39c1fd9e2e707"
  },
  {
   "metadata": {},
   "cell_type": "code",
   "outputs": [],
   "execution_count": null,
   "source": [
    "baseDeDonneesNettoyee = baseDeDonnees[[\"PRCP\",\"SNOW\",\"SNWD\",\"TMAX\",\"TMIN\"]].copy()\n",
    "baseDeDonneesNettoyee.columns = [\"precip\",\"snow\",\"snow_depth\",\"temp_max\",\"temp_min\"]\n",
    "baseDeDonneesNettoyee"
   ],
   "id": "f4531a795d68ecdd"
  },
  {
   "metadata": {},
   "cell_type": "code",
   "outputs": [],
   "execution_count": null,
   "source": [
    "null_prc = baseDeDonneesNettoyee.apply(pd.isnull).sum()/baseDeDonneesNettoyee.shape[0]\n",
    "null_prc"
   ],
   "id": "6540e4c8ffdb09fe"
  },
  {
   "metadata": {},
   "cell_type": "code",
   "outputs": [],
   "execution_count": null,
   "source": "del baseDeDonneesNettoyee[\"snow_depth\"]",
   "id": "bf3ee613307fe381"
  },
  {
   "metadata": {},
   "cell_type": "code",
   "outputs": [],
   "execution_count": null,
   "source": [
    "#Remplissage des trous de donnés\n",
    "baseDeDonneesNettoyee[\"snow\"] = baseDeDonneesNettoyee[\"snow\"].fillna(0)\n",
    "baseDeDonneesNettoyee = baseDeDonneesNettoyee.ffill()\n",
    "baseDeDonneesNettoyee.apply(pd.isnull).sum()/baseDeDonneesNettoyee.shape[0]\n",
    "baseDeDonneesNettoyee\n"
   ],
   "id": "f08149efd5fc2730"
  },
  {
   "metadata": {},
   "cell_type": "code",
   "outputs": [],
   "execution_count": null,
   "source": [
    "baseDeDonneesNettoyee.index = pd.to_datetime(baseDeDonneesNettoyee.index)\n",
    "baseDeDonneesNettoyee.index\n"
   ],
   "id": "f45b383a634f413e"
  },
  {
   "metadata": {},
   "cell_type": "code",
   "outputs": [],
   "execution_count": null,
   "source": [
    "#Verification probleme data\n",
    "baseDeDonneesNettoyee.apply(lambda x: (x==9999).sum())"
   ],
   "id": "10e4edf2f354ff48"
  },
  {
   "metadata": {},
   "cell_type": "code",
   "outputs": [],
   "execution_count": null,
   "source": [
    "#Analyse pour savoir s'il y a un manque de data.\n",
    "baseDeDonneesNettoyee[[\"temp_min\",\"temp_max\"]].plot()"
   ],
   "id": "43d8ff13d591d6bb"
  },
  {
   "metadata": {},
   "cell_type": "code",
   "outputs": [],
   "execution_count": null,
   "source": [
    "baseDeDonneesNettoyee.index.year.value_counts().sort_index()\n",
    "baseDeDonneesNettoyee[\"precip\"].plot()\n",
    "baseDeDonneesNettoyee[\"snow\"].plot()"
   ],
   "id": "993809708997c0bd"
  },
  {
   "metadata": {},
   "cell_type": "code",
   "outputs": [],
   "execution_count": null,
   "source": [
    "#Choisir ce que je veux predire.\n",
    "baseDeDonneesNettoyee[\"target\"] = baseDeDonneesNettoyee.shift(-1)[\"temp_max\"]\n",
    "baseDeDonneesNettoyee = baseDeDonneesNettoyee.iloc[:-1,:].copy()\n",
    "baseDeDonneesNettoyee\n",
    "#Creation de mon model de Ml\n",
    "reg = Ridge(alpha = .1)\n",
    "predicteur = [\"precip\",\"snow\",\"temp_max\",\"temp_min\"]\n",
    "train = baseDeDonneesNettoyee[:\"2023-01-31\"]\n",
    "test = baseDeDonnees[\"2023-01-01\":]\n",
    "reg.fit(train[predicteur],train[\"target\"])"
   ],
   "id": "e67f282e5b00c02f"
  }
 ],
 "metadata": {},
 "nbformat": 5,
 "nbformat_minor": 9
}
