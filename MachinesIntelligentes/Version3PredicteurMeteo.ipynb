{
 "cells": [
  {
   "metadata": {},
   "cell_type": "code",
   "outputs": [],
   "execution_count": null,
   "source": [
    "#Importation\n",
    "import pandas as pd\n",
    "import numpy as np\n",
    "import matplotlib.pyplot as plt\n",
    "import seaborn as sns\n",
    "from sklearn.utils import resample\n",
    "from sklearn.model_selection import train_test_split, GridSearchCV, cross_val_score\n",
    "from sklearn.ensemble import RandomForestClassifier\n",
    "from sklearn.metrics import classification_report, confusion_matrix, accuracy_score\n"
   ],
   "id": "ea5c4327d600053f"
  },
  {
   "metadata": {},
   "cell_type": "code",
   "outputs": [],
   "execution_count": null,
   "source": [
    "base_donnees = pd.read_csv(\"Donnés\\BaseDeDonneesPlusComplete1970-2025.csv\",index_col = \"date\")\n",
    "#creeer une nouvelle colonne pour predire contenant la prediction de s'il va neiger et pleuvoir.\n",
    "base_donnees[\"It's raining\"] = base_donnees[\"rain\"]>0\n",
    "base_donnees[\"It's snowing\"] = base_donnees[\"snow\"]>0\n",
    "del base_donnees[\"sunset_hhmm\"]\n",
    "del base_donnees[\"sunrise_hhmm\"]\n",
    "base_donnees = base_donnees.iloc[::-1]\n",
    "choix_predicteur = input(\"Vous voulez prédire la neige N ou la pluie P : \")\n",
    "\n"
   ],
   "id": "3649638cb1338c94"
  },
  {
   "metadata": {},
   "cell_type": "code",
   "outputs": [],
   "execution_count": null,
   "source": [
    "#Voir les pourcentages de manque de donnes dans chaque colonnes\n",
    "null_prc = base_donnees.isnull().sum()/base_donnees.shape[0]\n",
    "null_prc"
   ],
   "id": "a9705b2d04fdd41a"
  },
  {
   "metadata": {},
   "cell_type": "code",
   "outputs": [],
   "execution_count": null,
   "source": [
    "#Trier les colonnes valide avec peu de manque de donnees.\n",
    "colonne_valide = base_donnees.columns[null_prc<.05].copy()\n",
    "colonne_valide.shape[0]"
   ],
   "id": "d976e1f631bbecbb"
  },
  {
   "metadata": {},
   "cell_type": "code",
   "outputs": [],
   "execution_count": null,
   "source": [
    "#Creer nouvelle base de donnes nettoyée\n",
    "base_donnees = base_donnees[colonne_valide]\n",
    "base_donnees"
   ],
   "id": "e057f82437545902"
  },
  {
   "metadata": {},
   "cell_type": "code",
   "outputs": [],
   "execution_count": null,
   "source": [
    "#Étape pour trouver le manque de données se situe ou.\n",
    "null_prc = base_donnees.isnull().sum()/base_donnees.shape[0]\n",
    "null_prc"
   ],
   "id": "ef23e8319f2aab25"
  },
  {
   "metadata": {},
   "cell_type": "code",
   "outputs": [],
   "execution_count": null,
   "source": [
    "#Technique de remplissage impeu brute qui remplace les valeurs vide par la valeur de l'ancienne journée\n",
    "base_donnees = base_donnees.ffill()\n",
    "#Verification de manque de données aprés remplissage.\n",
    "null_prc = base_donnees.isnull().sum()/base_donnees.shape[0]\n",
    "null_prc"
   ],
   "id": "ebd2e62c9d469804"
  },
  {
   "metadata": {},
   "cell_type": "code",
   "outputs": [],
   "execution_count": null,
   "source": [
    "base_donnees.info()\n",
    "#Retire les espaces devant les titres des columns pour réduire l'espace utilisé\n",
    "base_donnees.columns = base_donnees.columns.str.strip()"
   ],
   "id": "4cbfac58da04129d"
  },
  {
   "metadata": {},
   "cell_type": "code",
   "outputs": [],
   "execution_count": null,
   "source": "base_donnees.info()",
   "id": "db331be5ffc4e17a"
  },
  {
   "metadata": {},
   "cell_type": "code",
   "outputs": [],
   "execution_count": null,
   "source": [
    "#Transformer mes valeurs de True/False de it's raining & it's snowing pour 1/0.\n",
    "base_donnees[\"It's raining\"] = base_donnees[\"It's raining\"].map({True:1,False:0})\n",
    "base_donnees[\"It's snowing\"] = base_donnees[\"It's snowing\"].map({True:1,False:0})\n",
    "base_donnees"
   ],
   "id": "7faf92610b6aae0"
  },
  {
   "metadata": {},
   "cell_type": "code",
   "outputs": [],
   "execution_count": null,
   "source": [
    "#Parametrer les graphes.\n",
    "sns.set_style(style=\"whitegrid\")\n",
    "base_donnees.describe()"
   ],
   "id": "9ed4f570be80f6b7"
  },
  {
   "metadata": {},
   "cell_type": "code",
   "outputs": [],
   "execution_count": null,
   "source": [
    "base_donnees.dtypes\n",
    "base_donnees.columns"
   ],
   "id": "c8df5235969dcb63"
  },
  {
   "metadata": {},
   "cell_type": "code",
   "outputs": [],
   "execution_count": null,
   "source": [
    "#Voir la comparaison entre le nombre de jour qu'il pleu/pleu pas et le nombre de jour ou il neige/il neige pas.\n",
    "\n",
    "plt.figure(figsize=(6,4))\n",
    "\n",
    "sns.countplot(x=\"It's raining\",data = base_donnees)\n",
    "plt.title(\"Repartition de la pluie\")\n",
    "plt.show()\n",
    "sns.countplot(x=\"It's snowing\",data = base_donnees)\n",
    "plt.title(\"Repartition de la tombé de neige\")\n",
    "plt.show()\n",
    "\n",
    "\n",
    "\n"
   ],
   "id": "deda166e45cb6d79"
  },
  {
   "metadata": {},
   "cell_type": "code",
   "outputs": [],
   "execution_count": null,
   "source": [
    "#La corrélation de chaque parametre.\n",
    "plt.figure(figsize=(30,24))\n",
    "sns.heatmap(base_donnees.corr(),annot=True,cmap=\"coolwarm\",fmt=\".2f\")\n",
    "plt.title(\"Corrélation de chaque données\")\n",
    "plt.show()"
   ],
   "id": "db421e175cd07a5d"
  },
  {
   "metadata": {},
   "cell_type": "markdown",
   "source": "Traitement des données",
   "id": "4a3d3f3cd797cfdd"
  },
  {
   "metadata": {},
   "cell_type": "code",
   "outputs": [],
   "execution_count": null,
   "source": [
    "base_donnees = base_donnees.drop(columns=['avg_hourly_temperature', 'avg_temperature','avg_hourly_dew_point','avg_dew_point','max_pressure_sea', 'avg_hourly_pressure_sea', 'avg_pressure_sea',\n",
    "       'min_pressure_sea', 'max_pressure_station',\n",
    "       'avg_hourly_pressure_station', 'avg_pressure_station',\n",
    "       'min_pressure_station','growdegdays_5', 'growdegdays_7', 'growdegdays_10'])\n"
   ],
   "id": "dd63dc2578ed0b95"
  },
  {
   "metadata": {},
   "cell_type": "code",
   "outputs": [],
   "execution_count": null,
   "source": [
    "#Séparer les données en majoritaire et minoritaire de It's raining et It's snowing.\n",
    "base_donnees_majoriatire_pluie = base_donnees[base_donnees[\"It's raining\"]==0]\n",
    "base_donnees_minoritaire_pluie = base_donnees[base_donnees[\"It's raining\"]==1]\n",
    "\n",
    "base_donnees_majoriatire_neige = base_donnees[base_donnees[\"It's snowing\"]==0]\n",
    "base_donnees_minoritaire_neige = base_donnees[base_donnees[\"It's snowing\"]==1]\n"
   ],
   "id": "256f1ac3dffb5fb8"
  },
  {
   "metadata": {},
   "cell_type": "code",
   "outputs": [],
   "execution_count": null,
   "source": [
    "print(base_donnees_majoriatire_pluie.shape)\n",
    "print(base_donnees_minoritaire_pluie.shape)\n",
    "print(base_donnees_majoriatire_neige.shape)\n",
    "print(base_donnees_minoritaire_neige.shape)\n"
   ],
   "id": "a6442540641c65a6"
  },
  {
   "metadata": {},
   "cell_type": "code",
   "outputs": [],
   "execution_count": null,
   "source": [
    "#On égalise le nombre de données minoritaire a nos données majoritaire.\n",
    "\n",
    "base_donnees_majoritaire_pluie_diminuee = resample(base_donnees_majoriatire_pluie,replace=False,n_samples=len(base_donnees_minoritaire_pluie),random_state=42)\n",
    "base_donnees_majoritaire_neige_diminuee = resample(base_donnees_majoriatire_neige,replace=False,n_samples=len(base_donnees_minoritaire_neige),random_state=42)\n"
   ],
   "id": "e18954fdfa010ad0"
  },
  {
   "metadata": {},
   "cell_type": "code",
   "outputs": [],
   "execution_count": null,
   "source": [
    "base_donnees_diminuee_pluie = pd.concat([base_donnees_majoritaire_pluie_diminuee,base_donnees_minoritaire_pluie])\n",
    "base_donnees_diminuee_neige = pd.concat([base_donnees_majoritaire_neige_diminuee,base_donnees_minoritaire_neige])\n",
    "base_donnees_diminuee_neige.shape\n"
   ],
   "id": "a445abb783633820"
  },
  {
   "metadata": {},
   "cell_type": "code",
   "outputs": [],
   "execution_count": null,
   "source": [
    "#Mélanger mes données pour pas que mon modèle n'ai pas d'ordre en mémoire.\n",
    "base_donnees_diminuee_pluie = base_donnees_diminuee_pluie.sample(frac=1,random_state=42).reset_index(drop=True)\n",
    "base_donnees_diminuee_neige = base_donnees_diminuee_neige.sample(frac=1,random_state=42).reset_index(drop=True)\n",
    "base_donnees_diminuee_pluie.head()"
   ],
   "id": "78df8b4f994bb2f5"
  },
  {
   "metadata": {},
   "cell_type": "code",
   "outputs": [],
   "execution_count": null,
   "source": [
    "base_donnees_diminuee_pluie[\"It's raining\"].value_counts()\n",
    "base_donnees_diminuee_neige[\"It's snowing\"].value_counts()\n"
   ],
   "id": "6ad65d680cfee4f4"
  },
  {
   "metadata": {},
   "cell_type": "markdown",
   "source": "Création données de test et données pour l'entrainement",
   "id": "64efd3ca897e0d01"
  },
  {
   "metadata": {},
   "cell_type": "code",
   "outputs": [],
   "execution_count": null,
   "source": [
    "X_pluie = base_donnees_diminuee_pluie.drop(columns=\"It's raining\")\n",
    "y_pluie = base_donnees_diminuee_pluie[\"It's raining\"]\n",
    "print(X_pluie.shape[1])\n",
    "print(y_pluie.shape[0])\n",
    "\n",
    "X_neige = base_donnees_diminuee_neige.drop(columns=\"It's snowing\")\n",
    "y_neige = base_donnees_diminuee_neige[\"It's snowing\"]"
   ],
   "id": "ae142d23418de74e"
  },
  {
   "metadata": {},
   "cell_type": "code",
   "outputs": [],
   "execution_count": null,
   "source": [
    "#Séparer les bases de données d'entrainement et de test\n",
    "X_train_pluie,X_test_pluie,y_train_pluie,y_test_pluie = train_test_split(X_pluie,y_pluie,test_size=0.2,random_state=42)\n",
    "\n",
    "X_train_neige,X_test_neige,y_train_neige,y_test_neige = train_test_split(X_neige,y_neige,test_size=0.2, random_state=42)\n"
   ],
   "id": "97bf0668e45c4117"
  },
  {
   "metadata": {},
   "cell_type": "markdown",
   "source": "***Entrainement du model de predicteur***\n",
   "id": "24871431942df12a"
  },
  {
   "metadata": {},
   "cell_type": "code",
   "outputs": [],
   "execution_count": null,
   "source": [
    "#Création de mon model et entrainement du model.\n",
    "rf_model = RandomForestClassifier(random_state=42)\n",
    "param_grid_rf = {\"n_estimators\":[100,200],\n",
    "                 \"max_features\":[\"sqrt\"],\n",
    "                 \"max_depth\":[None,10],\n",
    "                 \"min_samples_split\":[2,5]\n",
    "                 }\n",
    "\n"
   ],
   "id": "dce29d79b95ab513"
  },
  {
   "metadata": {},
   "cell_type": "code",
   "outputs": [],
   "execution_count": null,
   "source": [
    "#Renforcement du model d'entrainement\n",
    "grid_search_rf = GridSearchCV(estimator=rf_model, param_grid=param_grid_rf, cv=5, n_jobs=-1,verbose=2)\n",
    "grid_search_rf.fit(X_train_pluie,y_train_pluie)\n",
    "grid_search_rf.fit(X_train_neige,y_train_neige)"
   ],
   "id": "2e68048e85016c25"
  },
  {
   "metadata": {},
   "cell_type": "markdown",
   "source": "***Nouveau model condensée Grid+RandomForest***",
   "id": "5ed56cc051f3d29e"
  },
  {
   "metadata": {},
   "cell_type": "code",
   "outputs": [],
   "execution_count": null,
   "source": [
    "meilleur_model_rf = grid_search_rf.best_estimator_\n",
    "print(\"Meilleur parametres du model Random Forest : \",grid_search_rf.best_params_)\n"
   ],
   "id": "69f2a962d218c32d"
  },
  {
   "metadata": {},
   "cell_type": "markdown",
   "source": "Évaluation du model",
   "id": "8d8bc95ed61dc5ac"
  },
  {
   "metadata": {},
   "cell_type": "code",
   "outputs": [],
   "execution_count": null,
   "source": [
    "cv_score_pluie = cross_val_score(meilleur_model_rf,X_pluie,y_pluie,cv=5)\n",
    "cv_score_neige = cross_val_score(meilleur_model_rf,X_neige,y_neige,cv=5)\n",
    "print(\"Score pluie : \",np.mean(cv_score_pluie))\n",
    "print(\"means score pluie : \", np.mean(cv_score_pluie))\n",
    "print(\"Score neige : \",cv_score_neige)\n",
    "print(\"means score neige : \", np.mean(cv_score_neige))"
   ],
   "id": "86e1a29e8e3a0e75"
  },
  {
   "metadata": {},
   "cell_type": "markdown",
   "source": "Test pour voir la véracité du model",
   "id": "3d1f8bcf616fd3db"
  },
  {
   "metadata": {},
   "cell_type": "code",
   "outputs": [],
   "execution_count": null,
   "source": [
    "y_pred = None\n",
    "if choix_predicteur == \"S\":\n",
    "   y_pred  = meilleur_model_rf.predict(X_test_pluie)\n",
    "   print(\"Test de la vérocité des données pluie : \",accuracy_score(y_test_pluie,y_pred))\n",
    "   print(\"Test des confusions dans la matrix pluie : \\n \",confusion_matrix(y_test_pluie,y_pred))\n",
    "   print(\"Test probleme de classification : \\n\",classification_report(y_test_pluie,y_pred))\n",
    "elif choix_predicteur == \"N\":\n",
    "    y_pred = meilleur_model_rf.predict(X_test_neige)\n",
    "    print(\"Test de la vérocité des données neige : \",accuracy_score(y_test_neige,y_pred))\n",
    "    print(\"Test des confusions dans la matrix neige : \\n \",confusion_matrix(y_test_neige,y_pred))\n",
    "    print(\"Test probleme de classification : \\n\",classification_report(y_test_neige,y_pred))\n",
    "\n",
    "\n",
    "else:\n",
    "    print(\"Erreur dans la prédiction\")\n"
   ],
   "id": "8b21bf676687ea17"
  },
  {
   "metadata": {},
   "cell_type": "code",
   "outputs": [],
   "execution_count": null,
   "source": "input_data = []",
   "id": "15801bd161e73b19"
  }
 ],
 "metadata": {
  "kernelspec": {
   "display_name": "Python 3",
   "language": "python",
   "name": "python3"
  },
  "language_info": {
   "codemirror_mode": {
    "name": "ipython",
    "version": 2
   },
   "file_extension": ".py",
   "mimetype": "text/x-python",
   "name": "python",
   "nbconvert_exporter": "python",
   "pygments_lexer": "ipython2",
   "version": "2.7.6"
  }
 },
 "nbformat": 4,
 "nbformat_minor": 5
}
