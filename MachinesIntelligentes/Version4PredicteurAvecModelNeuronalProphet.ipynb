{
 "cells": [
  {
   "cell_type": "code",
   "id": "initial_id",
   "metadata": {
    "collapsed": true,
    "ExecuteTime": {
     "end_time": "2025-04-19T04:35:10.116763Z",
     "start_time": "2025-04-19T04:35:10.108648Z"
    }
   },
   "source": [
    "import pandas as pd\n",
    "import numpy as np\n",
    "import neuralprophet as NeuralProphet\n",
    "from matplotlib import pyplot as plt\n",
    "import pickle\n",
    "\n",
    "model = NeuralProphet\n",
    "\n"
   ],
   "outputs": [],
   "execution_count": 4
  }
 ],
 "metadata": {
  "kernelspec": {
   "display_name": "Python 3",
   "language": "python",
   "name": "python3"
  },
  "language_info": {
   "codemirror_mode": {
    "name": "ipython",
    "version": 2
   },
   "file_extension": ".py",
   "mimetype": "text/x-python",
   "name": "python",
   "nbconvert_exporter": "python",
   "pygments_lexer": "ipython2",
   "version": "2.7.6"
  }
 },
 "nbformat": 4,
 "nbformat_minor": 5
}
